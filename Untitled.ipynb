{
 "cells": [
  {
   "cell_type": "code",
   "execution_count": null,
   "metadata": {
    "scrolled": true,
    "slideshow": {
     "slide_type": "notes"
    }
   },
   "outputs": [
    {
     "name": "stdout",
     "output_type": "stream",
     "text": [
      "█\r"
     ]
    }
   ],
   "source": [
    "# -*-encoding:utf-8-*-\n",
    "import os\n",
    "import re\n",
    "import shutil\n",
    "import time\n",
    "import itchat\n",
    "from itchat.content import *"
   ]
  },
  {
   "cell_type": "code",
   "execution_count": null,
   "metadata": {},
   "outputs": [
    {
     "name": "stderr",
     "output_type": "stream",
     "text": [
      "Start auto replying.\n"
     ]
    }
   ],
   "source": [
    "# 说明：可以撤回的有文本文字、语音、视频、图片、位置、名片、分享、附件\n",
    "\n",
    "# {msg_id:(msg_from,msg_to,msg_time,msg_time_rec,msg_type,msg_content,msg_share_url)}\n",
    "msg_dict = {}\n",
    "\n",
    "# 文件存储临时目录\n",
    "rev_tmp_dir = \"D:\\\\Program Files\\\\Git\\\\git_work\\\\WeChatbot\\\\\"\n",
    "if not os.path.exists(rev_tmp_dir): os.mkdir(rev_tmp_dir)\n",
    "\n",
    "# 表情有一个问题 | 接受信息和接受note的msg_id不一致 巧合解决方案\n",
    "face_bug = None\n",
    "\n",
    "\n",
    "# 将接收到的消息存放在字典中，当接收到新消息时对字典中超时的消息进行清理 | 不接受不具有撤回功能的信息\n",
    "# [TEXT, PICTURE, MAP, CARD, SHARING, RECORDING, ATTACHMENT, VIDEO, FRIENDS, NOTE]\n",
    "@itchat.msg_register([TEXT, PICTURE, MAP, CARD, SHARING, RECORDING, ATTACHMENT, VIDEO])\n",
    "def handler_receive_msg(msg):\n",
    "    global face_bug\n",
    "    # 获取的是本地时间戳并格式化本地时间戳 e: 2017-04-21 21:30:08\n",
    "    msg_time_rec = time.strftime(\"%Y-%m-%d %H:%M:%S\", time.localtime())\n",
    "    # 消息ID\n",
    "    msg_id = msg['MsgId']\n",
    "    # 消息时间\n",
    "    msg_time = msg['CreateTime']\n",
    "    # 消息发送人昵称 | 这里也可以使用RemarkName备注　但是自己或者没有备注的人为None\n",
    "    msg_from = (itchat.search_friends(userName=msg['FromUserName']))[\"NickName\"]\n",
    "    # 消息内容\n",
    "    msg_content = None\n",
    "    # 分享的链接\n",
    "    msg_share_url = None\n",
    "    if msg['Type'] == 'Text' \\\n",
    "            or msg['Type'] == 'Friends':\n",
    "        msg_content = msg['Text']\n",
    "    elif msg['Type'] == 'Recording' \\\n",
    "            or msg['Type'] == 'Attachment' \\\n",
    "            or msg['Type'] == 'Video' \\\n",
    "            or msg['Type'] == 'Picture':\n",
    "        msg_content = r\"\" + msg['FileName']\n",
    "        # 保存文件\n",
    "        msg['Text'](rev_tmp_dir + msg['FileName'])\n",
    "    elif msg['Type'] == 'Card':\n",
    "        msg_content = msg['RecommendInfo']['NickName'] + r\" 的名片\"\n",
    "    elif msg['Type'] == 'Map':\n",
    "        x, y, location = re.search(\n",
    "            \"<location x=\\\"(.*?)\\\" y=\\\"(.*?)\\\".*label=\\\"(.*?)\\\".*\", msg['OriContent']).group(1, 2, 3)\n",
    "        if location is None:\n",
    "            msg_content = r\"纬度->\" + x.__str__() + \" 经度->\" + y.__str__()\n",
    "        else:\n",
    "            msg_content = r\"\" + location\n",
    "    elif msg['Type'] == 'Sharing':\n",
    "        msg_content = msg['Text']\n",
    "        msg_share_url = msg['Url']\n",
    "    face_bug = msg_content\n",
    "    # 更新字典\n",
    "    msg_dict.update(\n",
    "        {\n",
    "            msg_id: {\n",
    "                \"msg_from\": msg_from, \"msg_time\": msg_time, \"msg_time_rec\": msg_time_rec,\n",
    "                \"msg_type\": msg[\"Type\"],\n",
    "                \"msg_content\": msg_content, \"msg_share_url\": msg_share_url\n",
    "            }\n",
    "        }\n",
    "    )\n",
    "\n",
    "\n",
    "# 收到note通知类消息，判断是不是撤回并进行相应操作\n",
    "@itchat.msg_register([NOTE])\n",
    "def send_msg_helper(msg):\n",
    "    global face_bug\n",
    "    if re.search(r\"\\<\\!\\[CDATA\\[.*撤回了一条消息\\]\\]\\>\", msg['Content']) is not None:\n",
    "        # 获取消息的id\n",
    "        old_msg_id = re.search(\"\\<msgid\\>(.*?)\\<\\/msgid\\>\", msg['Content']).group(1)\n",
    "        old_msg = msg_dict.get(old_msg_id, {})\n",
    "        if len(old_msg_id) < 11:\n",
    "            itchat.send_file(rev_tmp_dir + face_bug, toUserName='filehelper')\n",
    "            os.remove(rev_tmp_dir + face_bug)\n",
    "        else:\n",
    "            msg_body = \"告诉你一个秘密~\" + \"\\n\" \\\n",
    "                       + old_msg.get('msg_from') + \" 撤回了 \" + old_msg.get(\"msg_type\") + \" 消息\" + \"\\n\" \\\n",
    "                       + old_msg.get('msg_time_rec') + \"\\n\" \\\n",
    "                       + \"撤回了什么 ⇣\" + \"\\n\" \\\n",
    "                       + r\"\" + old_msg.get('msg_content')\n",
    "            # 如果是分享存在链接\n",
    "            if old_msg['msg_type'] == \"Sharing\": msg_body += \"\\n就是这个链接➣ \" + old_msg.get('msg_share_url')\n",
    "\n",
    "            # 将撤回消息发送到文件助手\n",
    "            itchat.send(msg_body, toUserName='filehelper')\n",
    "            # 有文件的话也要将文件发送回去\n",
    "            if old_msg[\"msg_type\"] == \"Picture\" \\\n",
    "                    or old_msg[\"msg_type\"] == \"Recording\" \\\n",
    "                    or old_msg[\"msg_type\"] == \"Video\" \\\n",
    "                    or old_msg[\"msg_type\"] == \"Attachment\":\n",
    "                file = '@fil@%s' % (rev_tmp_dir + old_msg['msg_content'])\n",
    "                itchat.send(msg=file, toUserName='filehelper')\n",
    "                os.remove(rev_tmp_dir + old_msg['msg_content'])\n",
    "            # 删除字典旧消息\n",
    "            msg_dict.pop(old_msg_id)\n",
    "\n",
    "\n",
    "if __name__ == '__main__':\n",
    "    itchat.auto_login(hotReload=True)\n",
    "    itchat.run()"
   ]
  },
  {
   "cell_type": "code",
   "execution_count": null,
   "metadata": {},
   "outputs": [],
   "source": []
  },
  {
   "cell_type": "code",
   "execution_count": null,
   "metadata": {},
   "outputs": [],
   "source": []
  },
  {
   "cell_type": "code",
   "execution_count": null,
   "metadata": {},
   "outputs": [],
   "source": []
  }
 ],
 "metadata": {
  "kernelspec": {
   "display_name": "Python 3",
   "language": "python",
   "name": "python3"
  },
  "language_info": {
   "codemirror_mode": {
    "name": "ipython",
    "version": 3
   },
   "file_extension": ".py",
   "mimetype": "text/x-python",
   "name": "python",
   "nbconvert_exporter": "python",
   "pygments_lexer": "ipython3",
   "version": "3.6.4"
  }
 },
 "nbformat": 4,
 "nbformat_minor": 2
}
